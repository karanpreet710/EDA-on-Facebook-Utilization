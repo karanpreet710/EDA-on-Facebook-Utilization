{
 "cells": [
  {
   "cell_type": "markdown",
   "id": "44264659",
   "metadata": {},
   "source": [
    "# Exploratory Data Analysis (EDA) on Facebook Utilization"
   ]
  },
  {
   "cell_type": "markdown",
   "id": "4cfe7abd",
   "metadata": {},
   "source": [
    "## Installing Libraries"
   ]
  },
  {
   "cell_type": "code",
   "execution_count": 3,
   "id": "e2ed8da4",
   "metadata": {},
   "outputs": [],
   "source": [
    "!pip install -q datascience                                      \n",
    "!pip install -q pandas-profiling     "
   ]
  },
  {
   "cell_type": "markdown",
   "id": "86a25f98",
   "metadata": {},
   "source": [
    "## Upgrading Libraries"
   ]
  },
  {
   "cell_type": "code",
   "execution_count": 4,
   "id": "8df89f1d",
   "metadata": {},
   "outputs": [],
   "source": [
    "!pip install -q --upgrade pandas-profiling  "
   ]
  },
  {
   "cell_type": "markdown",
   "id": "fc39ce81",
   "metadata": {},
   "source": [
    "## Importing Libraries"
   ]
  },
  {
   "cell_type": "code",
   "execution_count": 5,
   "id": "c2f44f0a",
   "metadata": {},
   "outputs": [],
   "source": [
    "import pandas as pd                                                \n",
    "from pandas_profiling import ProfileReport                         \n",
    "import numpy as np                                                 \n",
    "import matplotlib.pyplot as plt                                 \n",
    "import seaborn as sns                                              \n",
    "%matplotlib inline\n",
    "import scipy as sp                                                 "
   ]
  },
  {
   "cell_type": "markdown",
   "id": "3ce88efd",
   "metadata": {},
   "source": [
    "## Data Acquisition"
   ]
  },
  {
   "cell_type": "code",
   "execution_count": 18,
   "id": "67b8c1f0",
   "metadata": {},
   "outputs": [
    {
     "name": "stdout",
     "output_type": "stream",
     "text": [
      "Data Shape: (99003, 15)\n"
     ]
    },
    {
     "data": {
      "text/html": [
       "<div>\n",
       "<style scoped>\n",
       "    .dataframe tbody tr th:only-of-type {\n",
       "        vertical-align: middle;\n",
       "    }\n",
       "\n",
       "    .dataframe tbody tr th {\n",
       "        vertical-align: top;\n",
       "    }\n",
       "\n",
       "    .dataframe thead th {\n",
       "        text-align: right;\n",
       "    }\n",
       "</style>\n",
       "<table border=\"1\" class=\"dataframe\">\n",
       "  <thead>\n",
       "    <tr style=\"text-align: right;\">\n",
       "      <th></th>\n",
       "      <th>userid</th>\n",
       "      <th>age</th>\n",
       "      <th>dob_day</th>\n",
       "      <th>dob_year</th>\n",
       "      <th>dob_month</th>\n",
       "      <th>gender</th>\n",
       "      <th>tenure</th>\n",
       "      <th>friend_count</th>\n",
       "      <th>friendships_initiated</th>\n",
       "      <th>likes</th>\n",
       "      <th>likes_received</th>\n",
       "      <th>mobile_likes</th>\n",
       "      <th>mobile_likes_received</th>\n",
       "      <th>www_likes</th>\n",
       "      <th>www_likes_received</th>\n",
       "    </tr>\n",
       "  </thead>\n",
       "  <tbody>\n",
       "    <tr>\n",
       "      <th>0</th>\n",
       "      <td>2094382</td>\n",
       "      <td>14</td>\n",
       "      <td>19</td>\n",
       "      <td>1999</td>\n",
       "      <td>11</td>\n",
       "      <td>male</td>\n",
       "      <td>266.0</td>\n",
       "      <td>0</td>\n",
       "      <td>0</td>\n",
       "      <td>0</td>\n",
       "      <td>0</td>\n",
       "      <td>0</td>\n",
       "      <td>0</td>\n",
       "      <td>0</td>\n",
       "      <td>0</td>\n",
       "    </tr>\n",
       "    <tr>\n",
       "      <th>1</th>\n",
       "      <td>1192601</td>\n",
       "      <td>14</td>\n",
       "      <td>2</td>\n",
       "      <td>1999</td>\n",
       "      <td>11</td>\n",
       "      <td>female</td>\n",
       "      <td>6.0</td>\n",
       "      <td>0</td>\n",
       "      <td>0</td>\n",
       "      <td>0</td>\n",
       "      <td>0</td>\n",
       "      <td>0</td>\n",
       "      <td>0</td>\n",
       "      <td>0</td>\n",
       "      <td>0</td>\n",
       "    </tr>\n",
       "    <tr>\n",
       "      <th>2</th>\n",
       "      <td>2083884</td>\n",
       "      <td>14</td>\n",
       "      <td>16</td>\n",
       "      <td>1999</td>\n",
       "      <td>11</td>\n",
       "      <td>male</td>\n",
       "      <td>13.0</td>\n",
       "      <td>0</td>\n",
       "      <td>0</td>\n",
       "      <td>0</td>\n",
       "      <td>0</td>\n",
       "      <td>0</td>\n",
       "      <td>0</td>\n",
       "      <td>0</td>\n",
       "      <td>0</td>\n",
       "    </tr>\n",
       "    <tr>\n",
       "      <th>3</th>\n",
       "      <td>1203168</td>\n",
       "      <td>14</td>\n",
       "      <td>25</td>\n",
       "      <td>1999</td>\n",
       "      <td>12</td>\n",
       "      <td>female</td>\n",
       "      <td>93.0</td>\n",
       "      <td>0</td>\n",
       "      <td>0</td>\n",
       "      <td>0</td>\n",
       "      <td>0</td>\n",
       "      <td>0</td>\n",
       "      <td>0</td>\n",
       "      <td>0</td>\n",
       "      <td>0</td>\n",
       "    </tr>\n",
       "    <tr>\n",
       "      <th>4</th>\n",
       "      <td>1733186</td>\n",
       "      <td>14</td>\n",
       "      <td>4</td>\n",
       "      <td>1999</td>\n",
       "      <td>12</td>\n",
       "      <td>male</td>\n",
       "      <td>82.0</td>\n",
       "      <td>0</td>\n",
       "      <td>0</td>\n",
       "      <td>0</td>\n",
       "      <td>0</td>\n",
       "      <td>0</td>\n",
       "      <td>0</td>\n",
       "      <td>0</td>\n",
       "      <td>0</td>\n",
       "    </tr>\n",
       "  </tbody>\n",
       "</table>\n",
       "</div>"
      ],
      "text/plain": [
       "    userid  age  dob_day  dob_year  dob_month  gender  tenure  friend_count  \\\n",
       "0  2094382   14       19      1999         11    male   266.0             0   \n",
       "1  1192601   14        2      1999         11  female     6.0             0   \n",
       "2  2083884   14       16      1999         11    male    13.0             0   \n",
       "3  1203168   14       25      1999         12  female    93.0             0   \n",
       "4  1733186   14        4      1999         12    male    82.0             0   \n",
       "\n",
       "   friendships_initiated  likes  likes_received  mobile_likes  \\\n",
       "0                      0      0               0             0   \n",
       "1                      0      0               0             0   \n",
       "2                      0      0               0             0   \n",
       "3                      0      0               0             0   \n",
       "4                      0      0               0             0   \n",
       "\n",
       "   mobile_likes_received  www_likes  www_likes_received  \n",
       "0                      0          0                   0  \n",
       "1                      0          0                   0  \n",
       "2                      0          0                   0  \n",
       "3                      0          0                   0  \n",
       "4                      0          0                   0  "
      ]
     },
     "execution_count": 18,
     "metadata": {},
     "output_type": "execute_result"
    }
   ],
   "source": [
    "data = pd.read_csv(filepath_or_buffer = 'https://raw.githubusercontent.com/insaid2018/Term-1/master/Data/Projects/facebook_data.csv')\n",
    "print('Data Shape:', data.shape)\n",
    "data.head()"
   ]
  },
  {
   "cell_type": "markdown",
   "id": "afc53c97",
   "metadata": {},
   "source": [
    "## Data Description"
   ]
  },
  {
   "cell_type": "code",
   "execution_count": 19,
   "id": "bf0bb678",
   "metadata": {},
   "outputs": [
    {
     "data": {
      "text/html": [
       "<div>\n",
       "<style scoped>\n",
       "    .dataframe tbody tr th:only-of-type {\n",
       "        vertical-align: middle;\n",
       "    }\n",
       "\n",
       "    .dataframe tbody tr th {\n",
       "        vertical-align: top;\n",
       "    }\n",
       "\n",
       "    .dataframe thead th {\n",
       "        text-align: right;\n",
       "    }\n",
       "</style>\n",
       "<table border=\"1\" class=\"dataframe\">\n",
       "  <thead>\n",
       "    <tr style=\"text-align: right;\">\n",
       "      <th></th>\n",
       "      <th>userid</th>\n",
       "      <th>age</th>\n",
       "      <th>dob_day</th>\n",
       "      <th>dob_year</th>\n",
       "      <th>dob_month</th>\n",
       "      <th>tenure</th>\n",
       "      <th>friend_count</th>\n",
       "      <th>friendships_initiated</th>\n",
       "      <th>likes</th>\n",
       "      <th>likes_received</th>\n",
       "      <th>mobile_likes</th>\n",
       "      <th>mobile_likes_received</th>\n",
       "      <th>www_likes</th>\n",
       "      <th>www_likes_received</th>\n",
       "    </tr>\n",
       "  </thead>\n",
       "  <tbody>\n",
       "    <tr>\n",
       "      <th>count</th>\n",
       "      <td>9.900300e+04</td>\n",
       "      <td>99003.000000</td>\n",
       "      <td>99003.000000</td>\n",
       "      <td>99003.000000</td>\n",
       "      <td>99003.000000</td>\n",
       "      <td>99001.000000</td>\n",
       "      <td>99003.000000</td>\n",
       "      <td>99003.000000</td>\n",
       "      <td>99003.000000</td>\n",
       "      <td>99003.000000</td>\n",
       "      <td>99003.000000</td>\n",
       "      <td>99003.000000</td>\n",
       "      <td>99003.000000</td>\n",
       "      <td>99003.000000</td>\n",
       "    </tr>\n",
       "    <tr>\n",
       "      <th>mean</th>\n",
       "      <td>1.597045e+06</td>\n",
       "      <td>37.280224</td>\n",
       "      <td>14.530408</td>\n",
       "      <td>1975.719776</td>\n",
       "      <td>6.283365</td>\n",
       "      <td>537.887375</td>\n",
       "      <td>196.350787</td>\n",
       "      <td>107.452471</td>\n",
       "      <td>156.078785</td>\n",
       "      <td>142.689363</td>\n",
       "      <td>106.116300</td>\n",
       "      <td>84.120491</td>\n",
       "      <td>49.962425</td>\n",
       "      <td>58.568831</td>\n",
       "    </tr>\n",
       "    <tr>\n",
       "      <th>std</th>\n",
       "      <td>3.440592e+05</td>\n",
       "      <td>22.589748</td>\n",
       "      <td>9.015606</td>\n",
       "      <td>22.589748</td>\n",
       "      <td>3.529672</td>\n",
       "      <td>457.649874</td>\n",
       "      <td>387.304229</td>\n",
       "      <td>188.786951</td>\n",
       "      <td>572.280681</td>\n",
       "      <td>1387.919613</td>\n",
       "      <td>445.252985</td>\n",
       "      <td>839.889444</td>\n",
       "      <td>285.560152</td>\n",
       "      <td>601.416348</td>\n",
       "    </tr>\n",
       "    <tr>\n",
       "      <th>min</th>\n",
       "      <td>1.000008e+06</td>\n",
       "      <td>13.000000</td>\n",
       "      <td>1.000000</td>\n",
       "      <td>1900.000000</td>\n",
       "      <td>1.000000</td>\n",
       "      <td>0.000000</td>\n",
       "      <td>0.000000</td>\n",
       "      <td>0.000000</td>\n",
       "      <td>0.000000</td>\n",
       "      <td>0.000000</td>\n",
       "      <td>0.000000</td>\n",
       "      <td>0.000000</td>\n",
       "      <td>0.000000</td>\n",
       "      <td>0.000000</td>\n",
       "    </tr>\n",
       "    <tr>\n",
       "      <th>25%</th>\n",
       "      <td>1.298806e+06</td>\n",
       "      <td>20.000000</td>\n",
       "      <td>7.000000</td>\n",
       "      <td>1963.000000</td>\n",
       "      <td>3.000000</td>\n",
       "      <td>226.000000</td>\n",
       "      <td>31.000000</td>\n",
       "      <td>17.000000</td>\n",
       "      <td>1.000000</td>\n",
       "      <td>1.000000</td>\n",
       "      <td>0.000000</td>\n",
       "      <td>0.000000</td>\n",
       "      <td>0.000000</td>\n",
       "      <td>0.000000</td>\n",
       "    </tr>\n",
       "    <tr>\n",
       "      <th>50%</th>\n",
       "      <td>1.596148e+06</td>\n",
       "      <td>28.000000</td>\n",
       "      <td>14.000000</td>\n",
       "      <td>1985.000000</td>\n",
       "      <td>6.000000</td>\n",
       "      <td>412.000000</td>\n",
       "      <td>82.000000</td>\n",
       "      <td>46.000000</td>\n",
       "      <td>11.000000</td>\n",
       "      <td>8.000000</td>\n",
       "      <td>4.000000</td>\n",
       "      <td>4.000000</td>\n",
       "      <td>0.000000</td>\n",
       "      <td>2.000000</td>\n",
       "    </tr>\n",
       "    <tr>\n",
       "      <th>75%</th>\n",
       "      <td>1.895744e+06</td>\n",
       "      <td>50.000000</td>\n",
       "      <td>22.000000</td>\n",
       "      <td>1993.000000</td>\n",
       "      <td>9.000000</td>\n",
       "      <td>675.000000</td>\n",
       "      <td>206.000000</td>\n",
       "      <td>117.000000</td>\n",
       "      <td>81.000000</td>\n",
       "      <td>59.000000</td>\n",
       "      <td>46.000000</td>\n",
       "      <td>33.000000</td>\n",
       "      <td>7.000000</td>\n",
       "      <td>20.000000</td>\n",
       "    </tr>\n",
       "    <tr>\n",
       "      <th>max</th>\n",
       "      <td>2.193542e+06</td>\n",
       "      <td>113.000000</td>\n",
       "      <td>31.000000</td>\n",
       "      <td>2000.000000</td>\n",
       "      <td>12.000000</td>\n",
       "      <td>3139.000000</td>\n",
       "      <td>4923.000000</td>\n",
       "      <td>4144.000000</td>\n",
       "      <td>25111.000000</td>\n",
       "      <td>261197.000000</td>\n",
       "      <td>25111.000000</td>\n",
       "      <td>138561.000000</td>\n",
       "      <td>14865.000000</td>\n",
       "      <td>129953.000000</td>\n",
       "    </tr>\n",
       "  </tbody>\n",
       "</table>\n",
       "</div>"
      ],
      "text/plain": [
       "             userid           age       dob_day      dob_year     dob_month  \\\n",
       "count  9.900300e+04  99003.000000  99003.000000  99003.000000  99003.000000   \n",
       "mean   1.597045e+06     37.280224     14.530408   1975.719776      6.283365   \n",
       "std    3.440592e+05     22.589748      9.015606     22.589748      3.529672   \n",
       "min    1.000008e+06     13.000000      1.000000   1900.000000      1.000000   \n",
       "25%    1.298806e+06     20.000000      7.000000   1963.000000      3.000000   \n",
       "50%    1.596148e+06     28.000000     14.000000   1985.000000      6.000000   \n",
       "75%    1.895744e+06     50.000000     22.000000   1993.000000      9.000000   \n",
       "max    2.193542e+06    113.000000     31.000000   2000.000000     12.000000   \n",
       "\n",
       "             tenure  friend_count  friendships_initiated         likes  \\\n",
       "count  99001.000000  99003.000000           99003.000000  99003.000000   \n",
       "mean     537.887375    196.350787             107.452471    156.078785   \n",
       "std      457.649874    387.304229             188.786951    572.280681   \n",
       "min        0.000000      0.000000               0.000000      0.000000   \n",
       "25%      226.000000     31.000000              17.000000      1.000000   \n",
       "50%      412.000000     82.000000              46.000000     11.000000   \n",
       "75%      675.000000    206.000000             117.000000     81.000000   \n",
       "max     3139.000000   4923.000000            4144.000000  25111.000000   \n",
       "\n",
       "       likes_received  mobile_likes  mobile_likes_received     www_likes  \\\n",
       "count    99003.000000  99003.000000           99003.000000  99003.000000   \n",
       "mean       142.689363    106.116300              84.120491     49.962425   \n",
       "std       1387.919613    445.252985             839.889444    285.560152   \n",
       "min          0.000000      0.000000               0.000000      0.000000   \n",
       "25%          1.000000      0.000000               0.000000      0.000000   \n",
       "50%          8.000000      4.000000               4.000000      0.000000   \n",
       "75%         59.000000     46.000000              33.000000      7.000000   \n",
       "max     261197.000000  25111.000000          138561.000000  14865.000000   \n",
       "\n",
       "       www_likes_received  \n",
       "count        99003.000000  \n",
       "mean            58.568831  \n",
       "std            601.416348  \n",
       "min              0.000000  \n",
       "25%              0.000000  \n",
       "50%              2.000000  \n",
       "75%             20.000000  \n",
       "max         129953.000000  "
      ]
     },
     "execution_count": 19,
     "metadata": {},
     "output_type": "execute_result"
    }
   ],
   "source": [
    "data.describe()"
   ]
  },
  {
   "cell_type": "markdown",
   "id": "1d4aeb9e",
   "metadata": {},
   "source": [
    "## Data Information"
   ]
  },
  {
   "cell_type": "code",
   "execution_count": 20,
   "id": "182e8121",
   "metadata": {},
   "outputs": [
    {
     "name": "stdout",
     "output_type": "stream",
     "text": [
      "<class 'pandas.core.frame.DataFrame'>\n",
      "RangeIndex: 99003 entries, 0 to 99002\n",
      "Data columns (total 15 columns):\n",
      " #   Column                 Non-Null Count  Dtype  \n",
      "---  ------                 --------------  -----  \n",
      " 0   userid                 99003 non-null  int64  \n",
      " 1   age                    99003 non-null  int64  \n",
      " 2   dob_day                99003 non-null  int64  \n",
      " 3   dob_year               99003 non-null  int64  \n",
      " 4   dob_month              99003 non-null  int64  \n",
      " 5   gender                 98828 non-null  object \n",
      " 6   tenure                 99001 non-null  float64\n",
      " 7   friend_count           99003 non-null  int64  \n",
      " 8   friendships_initiated  99003 non-null  int64  \n",
      " 9   likes                  99003 non-null  int64  \n",
      " 10  likes_received         99003 non-null  int64  \n",
      " 11  mobile_likes           99003 non-null  int64  \n",
      " 12  mobile_likes_received  99003 non-null  int64  \n",
      " 13  www_likes              99003 non-null  int64  \n",
      " 14  www_likes_received     99003 non-null  int64  \n",
      "dtypes: float64(1), int64(13), object(1)\n",
      "memory usage: 11.3+ MB\n"
     ]
    }
   ],
   "source": [
    "data.info()"
   ]
  },
  {
   "cell_type": "markdown",
   "id": "3d3f14da",
   "metadata": {},
   "source": [
    "## Data Pre-Profiling"
   ]
  },
  {
   "cell_type": "code",
   "execution_count": 21,
   "id": "b6008ba7",
   "metadata": {},
   "outputs": [
    {
     "data": {
      "application/vnd.jupyter.widget-view+json": {
       "model_id": "2c2e5e73758a4eb48c8ce3100bbe04a4",
       "version_major": 2,
       "version_minor": 0
      },
      "text/plain": [
       "Summarize dataset:   0%|          | 0/5 [00:00<?, ?it/s]"
      ]
     },
     "metadata": {},
     "output_type": "display_data"
    },
    {
     "data": {
      "application/vnd.jupyter.widget-view+json": {
       "model_id": "1b1178a7028640538b1a4d8f2237d444",
       "version_major": 2,
       "version_minor": 0
      },
      "text/plain": [
       "Generate report structure:   0%|          | 0/1 [00:00<?, ?it/s]"
      ]
     },
     "metadata": {},
     "output_type": "display_data"
    },
    {
     "data": {
      "application/vnd.jupyter.widget-view+json": {
       "model_id": "302952f3d4cd4a20b88ae9fd00405484",
       "version_major": 2,
       "version_minor": 0
      },
      "text/plain": [
       "Render HTML:   0%|          | 0/1 [00:00<?, ?it/s]"
      ]
     },
     "metadata": {},
     "output_type": "display_data"
    },
    {
     "data": {
      "application/vnd.jupyter.widget-view+json": {
       "model_id": "ddcde61b3f5f47b8a57e97e1ecaa3b53",
       "version_major": 2,
       "version_minor": 0
      },
      "text/plain": [
       "Export report to file:   0%|          | 0/1 [00:00<?, ?it/s]"
      ]
     },
     "metadata": {},
     "output_type": "display_data"
    }
   ],
   "source": [
    "profile = data.profile_report(title='Pre Profiling Report')\n",
    "profile.to_file(output_file=\"pre_profiling.html\")"
   ]
  },
  {
   "cell_type": "markdown",
   "id": "02bb6c58",
   "metadata": {},
   "source": [
    "## Data Pre-Processing"
   ]
  },
  {
   "cell_type": "markdown",
   "id": "d68c6c72",
   "metadata": {},
   "source": [
    "### Checking for missing data"
   ]
  },
  {
   "cell_type": "code",
   "execution_count": 22,
   "id": "7ee95e0c",
   "metadata": {},
   "outputs": [
    {
     "data": {
      "text/plain": [
       "userid                     0\n",
       "age                        0\n",
       "dob_day                    0\n",
       "dob_year                   0\n",
       "dob_month                  0\n",
       "gender                   175\n",
       "tenure                     2\n",
       "friend_count               0\n",
       "friendships_initiated      0\n",
       "likes                      0\n",
       "likes_received             0\n",
       "mobile_likes               0\n",
       "mobile_likes_received      0\n",
       "www_likes                  0\n",
       "www_likes_received         0\n",
       "dtype: int64"
      ]
     },
     "execution_count": 22,
     "metadata": {},
     "output_type": "execute_result"
    }
   ],
   "source": [
    "data.isnull().sum()"
   ]
  },
  {
   "cell_type": "markdown",
   "id": "a22da775",
   "metadata": {},
   "source": [
    "### Eliminating rows having null value in tenure column"
   ]
  },
  {
   "cell_type": "code",
   "execution_count": 23,
   "id": "0f5fed55",
   "metadata": {},
   "outputs": [
    {
     "data": {
      "text/plain": [
       "userid                     0\n",
       "age                        0\n",
       "dob_day                    0\n",
       "dob_year                   0\n",
       "dob_month                  0\n",
       "gender                   175\n",
       "tenure                     0\n",
       "friend_count               0\n",
       "friendships_initiated      0\n",
       "likes                      0\n",
       "likes_received             0\n",
       "mobile_likes               0\n",
       "mobile_likes_received      0\n",
       "www_likes                  0\n",
       "www_likes_received         0\n",
       "dtype: int64"
      ]
     },
     "execution_count": 23,
     "metadata": {},
     "output_type": "execute_result"
    }
   ],
   "source": [
    "data = data[~data.tenure.isnull()].copy()\n",
    "data.isnull().sum()"
   ]
  },
  {
   "cell_type": "markdown",
   "id": "c9b6cb2b",
   "metadata": {},
   "source": [
    "### Filling the missing gender values with the mode of the gender column"
   ]
  },
  {
   "cell_type": "code",
   "execution_count": 24,
   "id": "02950955",
   "metadata": {},
   "outputs": [
    {
     "data": {
      "text/plain": [
       "0"
      ]
     },
     "execution_count": 24,
     "metadata": {},
     "output_type": "execute_result"
    }
   ],
   "source": [
    "gender_mode = data.gender.mode()[0]\n",
    "data.gender.fillna(gender_mode, inplace = True)\n",
    "data.gender.isnull().sum()"
   ]
  },
  {
   "cell_type": "markdown",
   "id": "6f1e2bc3",
   "metadata": {},
   "source": [
    "### Again checking for missing data"
   ]
  },
  {
   "cell_type": "code",
   "execution_count": 25,
   "id": "22db41d7",
   "metadata": {},
   "outputs": [
    {
     "data": {
      "text/plain": [
       "userid                   0\n",
       "age                      0\n",
       "dob_day                  0\n",
       "dob_year                 0\n",
       "dob_month                0\n",
       "gender                   0\n",
       "tenure                   0\n",
       "friend_count             0\n",
       "friendships_initiated    0\n",
       "likes                    0\n",
       "likes_received           0\n",
       "mobile_likes             0\n",
       "mobile_likes_received    0\n",
       "www_likes                0\n",
       "www_likes_received       0\n",
       "dtype: int64"
      ]
     },
     "execution_count": 25,
     "metadata": {},
     "output_type": "execute_result"
    }
   ],
   "source": [
    "data.isnull().sum()"
   ]
  },
  {
   "cell_type": "markdown",
   "id": "fc1a082d",
   "metadata": {},
   "source": [
    "## Data Post-Profiling"
   ]
  },
  {
   "cell_type": "code",
   "execution_count": 26,
   "id": "d817902b",
   "metadata": {},
   "outputs": [
    {
     "data": {
      "application/vnd.jupyter.widget-view+json": {
       "model_id": "0ea5ec10a9404dc28e44d5855acc2ba1",
       "version_major": 2,
       "version_minor": 0
      },
      "text/plain": [
       "Summarize dataset:   0%|          | 0/5 [00:00<?, ?it/s]"
      ]
     },
     "metadata": {},
     "output_type": "display_data"
    },
    {
     "data": {
      "application/vnd.jupyter.widget-view+json": {
       "model_id": "d16a8678b858415b8fc09ea9b3419202",
       "version_major": 2,
       "version_minor": 0
      },
      "text/plain": [
       "Generate report structure:   0%|          | 0/1 [00:00<?, ?it/s]"
      ]
     },
     "metadata": {},
     "output_type": "display_data"
    },
    {
     "data": {
      "application/vnd.jupyter.widget-view+json": {
       "model_id": "de8153266844442c89f15e0cff90d83f",
       "version_major": 2,
       "version_minor": 0
      },
      "text/plain": [
       "Render HTML:   0%|          | 0/1 [00:00<?, ?it/s]"
      ]
     },
     "metadata": {},
     "output_type": "display_data"
    },
    {
     "data": {
      "application/vnd.jupyter.widget-view+json": {
       "model_id": "6ca9c1ed17f94e9ebd2b9e47b8135f51",
       "version_major": 2,
       "version_minor": 0
      },
      "text/plain": [
       "Export report to file:   0%|          | 0/1 [00:00<?, ?it/s]"
      ]
     },
     "metadata": {},
     "output_type": "display_data"
    }
   ],
   "source": [
    "profile = data.profile_report(title='Post Profiling Report')\n",
    "profile.to_file(output_file=\"post_profiling.html\")"
   ]
  },
  {
   "cell_type": "markdown",
   "id": "73da84f3",
   "metadata": {},
   "source": [
    "## Exploratory Data Analysis (EDA)"
   ]
  },
  {
   "cell_type": "markdown",
   "id": "2aac2f89",
   "metadata": {},
   "source": [
    "###  Counting number of users based on birth year"
   ]
  },
  {
   "cell_type": "code",
   "execution_count": 27,
   "id": "b1737016",
   "metadata": {},
   "outputs": [
    {
     "data": {
      "text/plain": [
       "1995    5196\n",
       "1990    4404\n",
       "1994    4391\n",
       "1993    3769\n",
       "1992    3671\n",
       "        ... \n",
       "1926      42\n",
       "1901      18\n",
       "1902      18\n",
       "1903      15\n",
       "1904       9\n",
       "Name: dob_year, Length: 101, dtype: int64"
      ]
     },
     "execution_count": 27,
     "metadata": {},
     "output_type": "execute_result"
    }
   ],
   "source": [
    "data['dob_year'].value_counts()"
   ]
  },
  {
   "cell_type": "markdown",
   "id": "3a8e44c4",
   "metadata": {},
   "source": [
    "### Counting number of users based on gender including NaN"
   ]
  },
  {
   "cell_type": "code",
   "execution_count": 28,
   "id": "75534577",
   "metadata": {},
   "outputs": [
    {
     "data": {
      "text/plain": [
       "male      58749\n",
       "female    40252\n",
       "Name: gender, dtype: int64"
      ]
     },
     "execution_count": 28,
     "metadata": {},
     "output_type": "execute_result"
    }
   ],
   "source": [
    "data['gender'].value_counts(dropna=False)"
   ]
  },
  {
   "cell_type": "markdown",
   "id": "7e27b8a1",
   "metadata": {},
   "source": [
    "### Dividing the dob_year into groups of 10"
   ]
  },
  {
   "cell_type": "code",
   "execution_count": 29,
   "id": "efa11375",
   "metadata": {},
   "outputs": [
    {
     "data": {
      "text/html": [
       "<div>\n",
       "<style scoped>\n",
       "    .dataframe tbody tr th:only-of-type {\n",
       "        vertical-align: middle;\n",
       "    }\n",
       "\n",
       "    .dataframe tbody tr th {\n",
       "        vertical-align: top;\n",
       "    }\n",
       "\n",
       "    .dataframe thead th {\n",
       "        text-align: right;\n",
       "    }\n",
       "</style>\n",
       "<table border=\"1\" class=\"dataframe\">\n",
       "  <thead>\n",
       "    <tr style=\"text-align: right;\">\n",
       "      <th></th>\n",
       "      <th>userid</th>\n",
       "      <th>age</th>\n",
       "      <th>dob_day</th>\n",
       "      <th>dob_year</th>\n",
       "      <th>dob_month</th>\n",
       "      <th>gender</th>\n",
       "      <th>tenure</th>\n",
       "      <th>friend_count</th>\n",
       "      <th>friendships_initiated</th>\n",
       "      <th>likes</th>\n",
       "      <th>likes_received</th>\n",
       "      <th>mobile_likes</th>\n",
       "      <th>mobile_likes_received</th>\n",
       "      <th>www_likes</th>\n",
       "      <th>www_likes_received</th>\n",
       "      <th>dob_year_group</th>\n",
       "    </tr>\n",
       "  </thead>\n",
       "  <tbody>\n",
       "    <tr>\n",
       "      <th>0</th>\n",
       "      <td>2094382</td>\n",
       "      <td>14</td>\n",
       "      <td>19</td>\n",
       "      <td>1999</td>\n",
       "      <td>11</td>\n",
       "      <td>male</td>\n",
       "      <td>266.0</td>\n",
       "      <td>0</td>\n",
       "      <td>0</td>\n",
       "      <td>0</td>\n",
       "      <td>0</td>\n",
       "      <td>0</td>\n",
       "      <td>0</td>\n",
       "      <td>0</td>\n",
       "      <td>0</td>\n",
       "      <td>1991-2000</td>\n",
       "    </tr>\n",
       "    <tr>\n",
       "      <th>1</th>\n",
       "      <td>1192601</td>\n",
       "      <td>14</td>\n",
       "      <td>2</td>\n",
       "      <td>1999</td>\n",
       "      <td>11</td>\n",
       "      <td>female</td>\n",
       "      <td>6.0</td>\n",
       "      <td>0</td>\n",
       "      <td>0</td>\n",
       "      <td>0</td>\n",
       "      <td>0</td>\n",
       "      <td>0</td>\n",
       "      <td>0</td>\n",
       "      <td>0</td>\n",
       "      <td>0</td>\n",
       "      <td>1991-2000</td>\n",
       "    </tr>\n",
       "    <tr>\n",
       "      <th>2</th>\n",
       "      <td>2083884</td>\n",
       "      <td>14</td>\n",
       "      <td>16</td>\n",
       "      <td>1999</td>\n",
       "      <td>11</td>\n",
       "      <td>male</td>\n",
       "      <td>13.0</td>\n",
       "      <td>0</td>\n",
       "      <td>0</td>\n",
       "      <td>0</td>\n",
       "      <td>0</td>\n",
       "      <td>0</td>\n",
       "      <td>0</td>\n",
       "      <td>0</td>\n",
       "      <td>0</td>\n",
       "      <td>1991-2000</td>\n",
       "    </tr>\n",
       "    <tr>\n",
       "      <th>3</th>\n",
       "      <td>1203168</td>\n",
       "      <td>14</td>\n",
       "      <td>25</td>\n",
       "      <td>1999</td>\n",
       "      <td>12</td>\n",
       "      <td>female</td>\n",
       "      <td>93.0</td>\n",
       "      <td>0</td>\n",
       "      <td>0</td>\n",
       "      <td>0</td>\n",
       "      <td>0</td>\n",
       "      <td>0</td>\n",
       "      <td>0</td>\n",
       "      <td>0</td>\n",
       "      <td>0</td>\n",
       "      <td>1991-2000</td>\n",
       "    </tr>\n",
       "    <tr>\n",
       "      <th>4</th>\n",
       "      <td>1733186</td>\n",
       "      <td>14</td>\n",
       "      <td>4</td>\n",
       "      <td>1999</td>\n",
       "      <td>12</td>\n",
       "      <td>male</td>\n",
       "      <td>82.0</td>\n",
       "      <td>0</td>\n",
       "      <td>0</td>\n",
       "      <td>0</td>\n",
       "      <td>0</td>\n",
       "      <td>0</td>\n",
       "      <td>0</td>\n",
       "      <td>0</td>\n",
       "      <td>0</td>\n",
       "      <td>1991-2000</td>\n",
       "    </tr>\n",
       "  </tbody>\n",
       "</table>\n",
       "</div>"
      ],
      "text/plain": [
       "    userid  age  dob_day  dob_year  dob_month  gender  tenure  friend_count  \\\n",
       "0  2094382   14       19      1999         11    male   266.0             0   \n",
       "1  1192601   14        2      1999         11  female     6.0             0   \n",
       "2  2083884   14       16      1999         11    male    13.0             0   \n",
       "3  1203168   14       25      1999         12  female    93.0             0   \n",
       "4  1733186   14        4      1999         12    male    82.0             0   \n",
       "\n",
       "   friendships_initiated  likes  likes_received  mobile_likes  \\\n",
       "0                      0      0               0             0   \n",
       "1                      0      0               0             0   \n",
       "2                      0      0               0             0   \n",
       "3                      0      0               0             0   \n",
       "4                      0      0               0             0   \n",
       "\n",
       "   mobile_likes_received  www_likes  www_likes_received dob_year_group  \n",
       "0                      0          0                   0      1991-2000  \n",
       "1                      0          0                   0      1991-2000  \n",
       "2                      0          0                   0      1991-2000  \n",
       "3                      0          0                   0      1991-2000  \n",
       "4                      0          0                   0      1991-2000  "
      ]
     },
     "execution_count": 29,
     "metadata": {},
     "output_type": "execute_result"
    }
   ],
   "source": [
    "labels=['1900-1910','1911-1920','1921-1930','1931-1940','1941-1950','1951-1960','1961-1970','1971-1980','1981-1990','1991-2000']\n",
    "data['dob_year_group'] = pd.cut(data.dob_year,bins=np.arange(1900,2010,10),labels=labels,right=True)\n",
    "data.head()"
   ]
  },
  {
   "cell_type": "markdown",
   "id": "e818dece",
   "metadata": {},
   "source": [
    "### Counting values in dob_year_group"
   ]
  },
  {
   "cell_type": "code",
   "execution_count": 30,
   "id": "416c0b62",
   "metadata": {},
   "outputs": [
    {
     "data": {
      "text/plain": [
       "1991-2000    31455\n",
       "1981-1990    25080\n",
       "1971-1980    10990\n",
       "1961-1970     9298\n",
       "1951-1960     8921\n",
       "1941-1950     5935\n",
       "1900-1910     3140\n",
       "1931-1940     1787\n",
       "1911-1920     1435\n",
       "1921-1930      758\n",
       "Name: dob_year_group, dtype: int64"
      ]
     },
     "execution_count": 30,
     "metadata": {},
     "output_type": "execute_result"
    }
   ],
   "source": [
    "data.dob_year_group.value_counts()"
   ]
  },
  {
   "cell_type": "markdown",
   "id": "0833a5f8",
   "metadata": {},
   "source": [
    "### Plotting barplot with dob_year_group as x-axis and likes_received as y-axis showing females got more likes than males"
   ]
  },
  {
   "cell_type": "code",
   "execution_count": 82,
   "id": "45e190f2",
   "metadata": {},
   "outputs": [
    {
     "data": {
      "image/png": "[encoded data removed]",
      "text/plain": [
       "<Figure size 1080x720 with 1 Axes>"
      ]
     },
     "metadata": {},
     "output_type": "display_data"
    }
   ],
   "source": [
    "sns.barplot(x=data['dob_year_group'],y=data['likes_received'],hue=data.gender)\n",
    "sns.set(rc = {'figure.figsize':(15,10)})"
   ]
  },
  {
   "cell_type": "markdown",
   "id": "56308487",
   "metadata": {},
   "source": [
    "### Number of users having some likes"
   ]
  },
  {
   "cell_type": "code",
   "execution_count": 33,
   "id": "dbf95522",
   "metadata": {},
   "outputs": [
    {
     "data": {
      "text/plain": [
       "74573"
      ]
     },
     "execution_count": 33,
     "metadata": {},
     "output_type": "execute_result"
    }
   ],
   "source": [
    "np.count_nonzero(data.likes_received)"
   ]
  },
  {
   "cell_type": "markdown",
   "id": "5dbb81f4",
   "metadata": {},
   "source": [
    "### Number of users having zero likes"
   ]
  },
  {
   "cell_type": "code",
   "execution_count": 34,
   "id": "436f9f02",
   "metadata": {},
   "outputs": [
    {
     "data": {
      "text/plain": [
       "False    74573\n",
       "True     24428\n",
       "Name: likes_received, dtype: int64"
      ]
     },
     "execution_count": 34,
     "metadata": {},
     "output_type": "execute_result"
    }
   ],
   "source": [
    "fc=data.likes_received==0\n",
    "fc.value_counts()"
   ]
  },
  {
   "cell_type": "markdown",
   "id": "fe2e936c",
   "metadata": {},
   "source": [
    "### Plotting the gender vs zero likes count users"
   ]
  },
  {
   "cell_type": "code",
   "execution_count": 36,
   "id": "74071385",
   "metadata": {},
   "outputs": [
    {
     "data": {
      "image/png": "[encoded data removed]",
      "text/plain": [
       "<Figure size 720x360 with 1 Axes>"
      ]
     },
     "metadata": {},
     "output_type": "display_data"
    }
   ],
   "source": [
    "sns.barplot(y=data.likes_received==0,x=data.gender)\n",
    "sns.set(rc = {'figure.figsize':(10,5)})"
   ]
  },
  {
   "cell_type": "markdown",
   "id": "3699ff84",
   "metadata": {},
   "source": [
    "### Top 5 users having highest friend count"
   ]
  },
  {
   "cell_type": "code",
   "execution_count": 42,
   "id": "f26071ec",
   "metadata": {},
   "outputs": [
    {
     "data": {
      "text/html": [
       "<div>\n",
       "<style scoped>\n",
       "    .dataframe tbody tr th:only-of-type {\n",
       "        vertical-align: middle;\n",
       "    }\n",
       "\n",
       "    .dataframe tbody tr th {\n",
       "        vertical-align: top;\n",
       "    }\n",
       "\n",
       "    .dataframe thead th {\n",
       "        text-align: right;\n",
       "    }\n",
       "</style>\n",
       "<table border=\"1\" class=\"dataframe\">\n",
       "  <thead>\n",
       "    <tr style=\"text-align: right;\">\n",
       "      <th></th>\n",
       "      <th>userid</th>\n",
       "      <th>age</th>\n",
       "      <th>dob_day</th>\n",
       "      <th>dob_year</th>\n",
       "      <th>dob_month</th>\n",
       "      <th>gender</th>\n",
       "      <th>tenure</th>\n",
       "      <th>friend_count</th>\n",
       "      <th>friendships_initiated</th>\n",
       "      <th>likes</th>\n",
       "      <th>likes_received</th>\n",
       "      <th>mobile_likes</th>\n",
       "      <th>mobile_likes_received</th>\n",
       "      <th>www_likes</th>\n",
       "      <th>www_likes_received</th>\n",
       "      <th>dob_year_group</th>\n",
       "    </tr>\n",
       "  </thead>\n",
       "  <tbody>\n",
       "    <tr>\n",
       "      <th>98159</th>\n",
       "      <td>2090699</td>\n",
       "      <td>103</td>\n",
       "      <td>1</td>\n",
       "      <td>1910</td>\n",
       "      <td>10</td>\n",
       "      <td>female</td>\n",
       "      <td>783.0</td>\n",
       "      <td>4923</td>\n",
       "      <td>96</td>\n",
       "      <td>26</td>\n",
       "      <td>80</td>\n",
       "      <td>26</td>\n",
       "      <td>71</td>\n",
       "      <td>0</td>\n",
       "      <td>9</td>\n",
       "      <td>1900-1910</td>\n",
       "    </tr>\n",
       "    <tr>\n",
       "      <th>98026</th>\n",
       "      <td>1660276</td>\n",
       "      <td>66</td>\n",
       "      <td>1</td>\n",
       "      <td>1947</td>\n",
       "      <td>7</td>\n",
       "      <td>male</td>\n",
       "      <td>716.0</td>\n",
       "      <td>4917</td>\n",
       "      <td>431</td>\n",
       "      <td>0</td>\n",
       "      <td>114</td>\n",
       "      <td>0</td>\n",
       "      <td>69</td>\n",
       "      <td>0</td>\n",
       "      <td>45</td>\n",
       "      <td>1941-1950</td>\n",
       "    </tr>\n",
       "    <tr>\n",
       "      <th>98184</th>\n",
       "      <td>1926655</td>\n",
       "      <td>19</td>\n",
       "      <td>1</td>\n",
       "      <td>1994</td>\n",
       "      <td>8</td>\n",
       "      <td>female</td>\n",
       "      <td>469.0</td>\n",
       "      <td>4863</td>\n",
       "      <td>241</td>\n",
       "      <td>37</td>\n",
       "      <td>166</td>\n",
       "      <td>36</td>\n",
       "      <td>117</td>\n",
       "      <td>1</td>\n",
       "      <td>49</td>\n",
       "      <td>1991-2000</td>\n",
       "    </tr>\n",
       "    <tr>\n",
       "      <th>98797</th>\n",
       "      <td>1685573</td>\n",
       "      <td>38</td>\n",
       "      <td>20</td>\n",
       "      <td>1975</td>\n",
       "      <td>2</td>\n",
       "      <td>male</td>\n",
       "      <td>1930.0</td>\n",
       "      <td>4845</td>\n",
       "      <td>942</td>\n",
       "      <td>1768</td>\n",
       "      <td>4886</td>\n",
       "      <td>1208</td>\n",
       "      <td>1619</td>\n",
       "      <td>560</td>\n",
       "      <td>3267</td>\n",
       "      <td>1971-1980</td>\n",
       "    </tr>\n",
       "    <tr>\n",
       "      <th>98087</th>\n",
       "      <td>1386477</td>\n",
       "      <td>61</td>\n",
       "      <td>30</td>\n",
       "      <td>1952</td>\n",
       "      <td>3</td>\n",
       "      <td>male</td>\n",
       "      <td>1210.0</td>\n",
       "      <td>4844</td>\n",
       "      <td>561</td>\n",
       "      <td>7</td>\n",
       "      <td>247</td>\n",
       "      <td>5</td>\n",
       "      <td>96</td>\n",
       "      <td>2</td>\n",
       "      <td>151</td>\n",
       "      <td>1951-1960</td>\n",
       "    </tr>\n",
       "  </tbody>\n",
       "</table>\n",
       "</div>"
      ],
      "text/plain": [
       "        userid  age  dob_day  dob_year  dob_month  gender  tenure  \\\n",
       "98159  2090699  103        1      1910         10  female   783.0   \n",
       "98026  1660276   66        1      1947          7    male   716.0   \n",
       "98184  1926655   19        1      1994          8  female   469.0   \n",
       "98797  1685573   38       20      1975          2    male  1930.0   \n",
       "98087  1386477   61       30      1952          3    male  1210.0   \n",
       "\n",
       "       friend_count  friendships_initiated  likes  likes_received  \\\n",
       "98159          4923                     96     26              80   \n",
       "98026          4917                    431      0             114   \n",
       "98184          4863                    241     37             166   \n",
       "98797          4845                    942   1768            4886   \n",
       "98087          4844                    561      7             247   \n",
       "\n",
       "       mobile_likes  mobile_likes_received  www_likes  www_likes_received  \\\n",
       "98159            26                     71          0                   9   \n",
       "98026             0                     69          0                  45   \n",
       "98184            36                    117          1                  49   \n",
       "98797          1208                   1619        560                3267   \n",
       "98087             5                     96          2                 151   \n",
       "\n",
       "      dob_year_group  \n",
       "98159      1900-1910  \n",
       "98026      1941-1950  \n",
       "98184      1991-2000  \n",
       "98797      1971-1980  \n",
       "98087      1951-1960  "
      ]
     },
     "execution_count": 42,
     "metadata": {},
     "output_type": "execute_result"
    }
   ],
   "source": [
    "data.sort_values(by='friend_count',ascending=False)[:5]"
   ]
  },
  {
   "cell_type": "markdown",
   "id": "ac920660",
   "metadata": {},
   "source": [
    "### Top 10 users getting highest mobile likes"
   ]
  },
  {
   "cell_type": "code",
   "execution_count": 49,
   "id": "9ad65ca2",
   "metadata": {},
   "outputs": [
    {
     "data": {
      "text/html": [
       "<div>\n",
       "<style scoped>\n",
       "    .dataframe tbody tr th:only-of-type {\n",
       "        vertical-align: middle;\n",
       "    }\n",
       "\n",
       "    .dataframe tbody tr th {\n",
       "        vertical-align: top;\n",
       "    }\n",
       "\n",
       "    .dataframe thead th {\n",
       "        text-align: right;\n",
       "    }\n",
       "</style>\n",
       "<table border=\"1\" class=\"dataframe\">\n",
       "  <thead>\n",
       "    <tr style=\"text-align: right;\">\n",
       "      <th></th>\n",
       "      <th>userid</th>\n",
       "      <th>age</th>\n",
       "      <th>dob_day</th>\n",
       "      <th>dob_year</th>\n",
       "      <th>dob_month</th>\n",
       "      <th>gender</th>\n",
       "      <th>tenure</th>\n",
       "      <th>friend_count</th>\n",
       "      <th>friendships_initiated</th>\n",
       "      <th>likes</th>\n",
       "      <th>likes_received</th>\n",
       "      <th>mobile_likes</th>\n",
       "      <th>mobile_likes_received</th>\n",
       "      <th>www_likes</th>\n",
       "      <th>www_likes_received</th>\n",
       "      <th>dob_year_group</th>\n",
       "    </tr>\n",
       "  </thead>\n",
       "  <tbody>\n",
       "    <tr>\n",
       "      <th>77121</th>\n",
       "      <td>1441676</td>\n",
       "      <td>20</td>\n",
       "      <td>5</td>\n",
       "      <td>1993</td>\n",
       "      <td>8</td>\n",
       "      <td>female</td>\n",
       "      <td>253.0</td>\n",
       "      <td>230</td>\n",
       "      <td>73</td>\n",
       "      <td>2078</td>\n",
       "      <td>178166</td>\n",
       "      <td>1982</td>\n",
       "      <td>138561</td>\n",
       "      <td>96</td>\n",
       "      <td>39605</td>\n",
       "      <td>1991-2000</td>\n",
       "    </tr>\n",
       "    <tr>\n",
       "      <th>94906</th>\n",
       "      <td>1674584</td>\n",
       "      <td>17</td>\n",
       "      <td>14</td>\n",
       "      <td>1996</td>\n",
       "      <td>8</td>\n",
       "      <td>female</td>\n",
       "      <td>401.0</td>\n",
       "      <td>818</td>\n",
       "      <td>395</td>\n",
       "      <td>1016</td>\n",
       "      <td>261197</td>\n",
       "      <td>659</td>\n",
       "      <td>131244</td>\n",
       "      <td>357</td>\n",
       "      <td>129953</td>\n",
       "      <td>1991-2000</td>\n",
       "    </tr>\n",
       "    <tr>\n",
       "      <th>98822</th>\n",
       "      <td>1715925</td>\n",
       "      <td>23</td>\n",
       "      <td>4</td>\n",
       "      <td>1990</td>\n",
       "      <td>9</td>\n",
       "      <td>female</td>\n",
       "      <td>705.0</td>\n",
       "      <td>4077</td>\n",
       "      <td>793</td>\n",
       "      <td>1877</td>\n",
       "      <td>152014</td>\n",
       "      <td>80</td>\n",
       "      <td>89911</td>\n",
       "      <td>1797</td>\n",
       "      <td>62103</td>\n",
       "      <td>1981-1990</td>\n",
       "    </tr>\n",
       "    <tr>\n",
       "      <th>98994</th>\n",
       "      <td>2063006</td>\n",
       "      <td>20</td>\n",
       "      <td>4</td>\n",
       "      <td>1993</td>\n",
       "      <td>1</td>\n",
       "      <td>female</td>\n",
       "      <td>402.0</td>\n",
       "      <td>1988</td>\n",
       "      <td>332</td>\n",
       "      <td>7351</td>\n",
       "      <td>106025</td>\n",
       "      <td>7248</td>\n",
       "      <td>73333</td>\n",
       "      <td>103</td>\n",
       "      <td>32692</td>\n",
       "      <td>1991-2000</td>\n",
       "    </tr>\n",
       "    <tr>\n",
       "      <th>98878</th>\n",
       "      <td>1053087</td>\n",
       "      <td>23</td>\n",
       "      <td>6</td>\n",
       "      <td>1990</td>\n",
       "      <td>6</td>\n",
       "      <td>male</td>\n",
       "      <td>596.0</td>\n",
       "      <td>4320</td>\n",
       "      <td>836</td>\n",
       "      <td>2996</td>\n",
       "      <td>82623</td>\n",
       "      <td>179</td>\n",
       "      <td>43410</td>\n",
       "      <td>2817</td>\n",
       "      <td>39213</td>\n",
       "      <td>1981-1990</td>\n",
       "    </tr>\n",
       "    <tr>\n",
       "      <th>98937</th>\n",
       "      <td>1559908</td>\n",
       "      <td>20</td>\n",
       "      <td>4</td>\n",
       "      <td>1993</td>\n",
       "      <td>12</td>\n",
       "      <td>female</td>\n",
       "      <td>1334.0</td>\n",
       "      <td>4622</td>\n",
       "      <td>1819</td>\n",
       "      <td>4280</td>\n",
       "      <td>45633</td>\n",
       "      <td>472</td>\n",
       "      <td>30754</td>\n",
       "      <td>3808</td>\n",
       "      <td>14879</td>\n",
       "      <td>1991-2000</td>\n",
       "    </tr>\n",
       "    <tr>\n",
       "      <th>49230</th>\n",
       "      <td>1432020</td>\n",
       "      <td>20</td>\n",
       "      <td>12</td>\n",
       "      <td>1993</td>\n",
       "      <td>1</td>\n",
       "      <td>male</td>\n",
       "      <td>245.0</td>\n",
       "      <td>79</td>\n",
       "      <td>50</td>\n",
       "      <td>477</td>\n",
       "      <td>53534</td>\n",
       "      <td>78</td>\n",
       "      <td>30387</td>\n",
       "      <td>399</td>\n",
       "      <td>23147</td>\n",
       "      <td>1991-2000</td>\n",
       "    </tr>\n",
       "    <tr>\n",
       "      <th>98936</th>\n",
       "      <td>1781243</td>\n",
       "      <td>17</td>\n",
       "      <td>1</td>\n",
       "      <td>1996</td>\n",
       "      <td>5</td>\n",
       "      <td>female</td>\n",
       "      <td>976.0</td>\n",
       "      <td>3683</td>\n",
       "      <td>755</td>\n",
       "      <td>10478</td>\n",
       "      <td>42449</td>\n",
       "      <td>246</td>\n",
       "      <td>27353</td>\n",
       "      <td>10232</td>\n",
       "      <td>15096</td>\n",
       "      <td>1991-2000</td>\n",
       "    </tr>\n",
       "    <tr>\n",
       "      <th>98973</th>\n",
       "      <td>1836366</td>\n",
       "      <td>26</td>\n",
       "      <td>3</td>\n",
       "      <td>1987</td>\n",
       "      <td>8</td>\n",
       "      <td>female</td>\n",
       "      <td>1669.0</td>\n",
       "      <td>4240</td>\n",
       "      <td>857</td>\n",
       "      <td>4794</td>\n",
       "      <td>28778</td>\n",
       "      <td>1153</td>\n",
       "      <td>20770</td>\n",
       "      <td>3641</td>\n",
       "      <td>8008</td>\n",
       "      <td>1981-1990</td>\n",
       "    </tr>\n",
       "    <tr>\n",
       "      <th>98773</th>\n",
       "      <td>2042824</td>\n",
       "      <td>18</td>\n",
       "      <td>25</td>\n",
       "      <td>1995</td>\n",
       "      <td>1</td>\n",
       "      <td>male</td>\n",
       "      <td>51.0</td>\n",
       "      <td>4817</td>\n",
       "      <td>32</td>\n",
       "      <td>1346</td>\n",
       "      <td>52964</td>\n",
       "      <td>1342</td>\n",
       "      <td>18925</td>\n",
       "      <td>4</td>\n",
       "      <td>34039</td>\n",
       "      <td>1991-2000</td>\n",
       "    </tr>\n",
       "  </tbody>\n",
       "</table>\n",
       "</div>"
      ],
      "text/plain": [
       "        userid  age  dob_day  dob_year  dob_month  gender  tenure  \\\n",
       "77121  1441676   20        5      1993          8  female   253.0   \n",
       "94906  1674584   17       14      1996          8  female   401.0   \n",
       "98822  1715925   23        4      1990          9  female   705.0   \n",
       "98994  2063006   20        4      1993          1  female   402.0   \n",
       "98878  1053087   23        6      1990          6    male   596.0   \n",
       "98937  1559908   20        4      1993         12  female  1334.0   \n",
       "49230  1432020   20       12      1993          1    male   245.0   \n",
       "98936  1781243   17        1      1996          5  female   976.0   \n",
       "98973  1836366   26        3      1987          8  female  1669.0   \n",
       "98773  2042824   18       25      1995          1    male    51.0   \n",
       "\n",
       "       friend_count  friendships_initiated  likes  likes_received  \\\n",
       "77121           230                     73   2078          178166   \n",
       "94906           818                    395   1016          261197   \n",
       "98822          4077                    793   1877          152014   \n",
       "98994          1988                    332   7351          106025   \n",
       "98878          4320                    836   2996           82623   \n",
       "98937          4622                   1819   4280           45633   \n",
       "49230            79                     50    477           53534   \n",
       "98936          3683                    755  10478           42449   \n",
       "98973          4240                    857   4794           28778   \n",
       "98773          4817                     32   1346           52964   \n",
       "\n",
       "       mobile_likes  mobile_likes_received  www_likes  www_likes_received  \\\n",
       "77121          1982                 138561         96               39605   \n",
       "94906           659                 131244        357              129953   \n",
       "98822            80                  89911       1797               62103   \n",
       "98994          7248                  73333        103               32692   \n",
       "98878           179                  43410       2817               39213   \n",
       "98937           472                  30754       3808               14879   \n",
       "49230            78                  30387        399               23147   \n",
       "98936           246                  27353      10232               15096   \n",
       "98973          1153                  20770       3641                8008   \n",
       "98773          1342                  18925          4               34039   \n",
       "\n",
       "      dob_year_group  \n",
       "77121      1991-2000  \n",
       "94906      1991-2000  \n",
       "98822      1981-1990  \n",
       "98994      1991-2000  \n",
       "98878      1981-1990  \n",
       "98937      1991-2000  \n",
       "49230      1991-2000  \n",
       "98936      1991-2000  \n",
       "98973      1981-1990  \n",
       "98773      1991-2000  "
      ]
     },
     "execution_count": 49,
     "metadata": {},
     "output_type": "execute_result"
    }
   ],
   "source": [
    "temp = data.sort_values(by='mobile_likes_received',ascending=False)[:10]\n",
    "temp"
   ]
  },
  {
   "cell_type": "markdown",
   "id": "8cb8f02a",
   "metadata": {},
   "source": [
    "### Plotting barplot showing users getting highest mobile likes and the corresponding mobile likes received count"
   ]
  },
  {
   "cell_type": "code",
   "execution_count": 52,
   "id": "509f575d",
   "metadata": {},
   "outputs": [
    {
     "data": {
      "image/png": "[encoded data removed]",
      "text/plain": [
       "<Figure size 720x360 with 1 Axes>"
      ]
     },
     "metadata": {},
     "output_type": "display_data"
    }
   ],
   "source": [
    "temp.plot(x='userid',y='mobile_likes_received',kind='bar')\n",
    "plt.ylabel(\"Mobile likes received\")\n",
    "plt.xlabel(\"User ID\")\n",
    "plt.title(\"Maximum mobile likes received\")\n",
    "plt.show()"
   ]
  }
 ],
 "metadata": {
  "kernelspec": {
   "display_name": "Python 3 (ipykernel)",
   "language": "python",
   "name": "python3"
  },
  "language_info": {
   "codemirror_mode": {
    "name": "ipython",
    "version": 3
   },
   "file_extension": ".py",
   "mimetype": "text/x-python",
   "name": "python",
   "nbconvert_exporter": "python",
   "pygments_lexer": "ipython3",
   "version": "3.9.12"
  }
 },
 "nbformat": 4,
 "nbformat_minor": 5
}
